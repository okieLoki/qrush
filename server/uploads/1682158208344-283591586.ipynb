{
  "nbformat": 4,
  "nbformat_minor": 0,
  "metadata": {
    "colab": {
      "provenance": []
    },
    "kernelspec": {
      "name": "python3",
      "display_name": "Python 3"
    },
    "language_info": {
      "name": "python"
    },
    "accelerator": "GPU",
    "gpuClass": "standard"
  },
  "cells": [
    {
      "cell_type": "markdown",
      "source": [
        "### Loading the Dataset\n",
        "\n"
      ],
      "metadata": {
        "id": "JrhCU-UZQE8o"
      }
    },
    {
      "cell_type": "code",
      "execution_count": 220,
      "metadata": {
        "id": "gmRgSr9fPl8j"
      },
      "outputs": [],
      "source": [
        "import pandas as pd"
      ]
    },
    {
      "cell_type": "code",
      "source": [
        "df = pd.read_csv('tweets_labelled.csv')\n",
        "df.head()"
      ],
      "metadata": {
        "colab": {
          "base_uri": "https://localhost:8080/",
          "height": 206
        },
        "id": "TDRxJuUCP5tD",
        "outputId": "de532e73-c63b-49cd-94d0-ef601e2cfeba"
      },
      "execution_count": 221,
      "outputs": [
        {
          "output_type": "execute_result",
          "data": {
            "text/plain": [
              "                        Date          User  \\\n",
              "0  2023-04-15 11:02:21+00:00  Hellstorm901   \n",
              "1  2023-04-15 11:02:07+00:00  MaryMaryLin8   \n",
              "2  2023-04-15 11:02:05+00:00    elwrshfany   \n",
              "3  2023-04-15 11:02:01+00:00  jeaniegirlTN   \n",
              "4  2023-04-15 11:01:57+00:00  yusr35144430   \n",
              "\n",
              "                                               Tweet  emotion  \n",
              "0  @vicktop55 Fact Check - Buildings which Ukrain...     fear  \n",
              "1  #NaziRussia #Russia #WarCrimes #WarCrimesofRus...    anger  \n",
              "2  WARNING GRAPHIC CONTENT 18+ | Ukrainian armore...  sadness  \n",
              "3  @TheSpectator He may be right as Biden is an o...    anger  \n",
              "4  🔴Russian War--Footage of The Attack on Katsap ...     fear  "
            ],
            "text/html": [
              "\n",
              "  <div id=\"df-021535af-6291-4ac4-b01c-6586bb52c188\">\n",
              "    <div class=\"colab-df-container\">\n",
              "      <div>\n",
              "<style scoped>\n",
              "    .dataframe tbody tr th:only-of-type {\n",
              "        vertical-align: middle;\n",
              "    }\n",
              "\n",
              "    .dataframe tbody tr th {\n",
              "        vertical-align: top;\n",
              "    }\n",
              "\n",
              "    .dataframe thead th {\n",
              "        text-align: right;\n",
              "    }\n",
              "</style>\n",
              "<table border=\"1\" class=\"dataframe\">\n",
              "  <thead>\n",
              "    <tr style=\"text-align: right;\">\n",
              "      <th></th>\n",
              "      <th>Date</th>\n",
              "      <th>User</th>\n",
              "      <th>Tweet</th>\n",
              "      <th>emotion</th>\n",
              "    </tr>\n",
              "  </thead>\n",
              "  <tbody>\n",
              "    <tr>\n",
              "      <th>0</th>\n",
              "      <td>2023-04-15 11:02:21+00:00</td>\n",
              "      <td>Hellstorm901</td>\n",
              "      <td>@vicktop55 Fact Check - Buildings which Ukrain...</td>\n",
              "      <td>fear</td>\n",
              "    </tr>\n",
              "    <tr>\n",
              "      <th>1</th>\n",
              "      <td>2023-04-15 11:02:07+00:00</td>\n",
              "      <td>MaryMaryLin8</td>\n",
              "      <td>#NaziRussia #Russia #WarCrimes #WarCrimesofRus...</td>\n",
              "      <td>anger</td>\n",
              "    </tr>\n",
              "    <tr>\n",
              "      <th>2</th>\n",
              "      <td>2023-04-15 11:02:05+00:00</td>\n",
              "      <td>elwrshfany</td>\n",
              "      <td>WARNING GRAPHIC CONTENT 18+ | Ukrainian armore...</td>\n",
              "      <td>sadness</td>\n",
              "    </tr>\n",
              "    <tr>\n",
              "      <th>3</th>\n",
              "      <td>2023-04-15 11:02:01+00:00</td>\n",
              "      <td>jeaniegirlTN</td>\n",
              "      <td>@TheSpectator He may be right as Biden is an o...</td>\n",
              "      <td>anger</td>\n",
              "    </tr>\n",
              "    <tr>\n",
              "      <th>4</th>\n",
              "      <td>2023-04-15 11:01:57+00:00</td>\n",
              "      <td>yusr35144430</td>\n",
              "      <td>🔴Russian War--Footage of The Attack on Katsap ...</td>\n",
              "      <td>fear</td>\n",
              "    </tr>\n",
              "  </tbody>\n",
              "</table>\n",
              "</div>\n",
              "      <button class=\"colab-df-convert\" onclick=\"convertToInteractive('df-021535af-6291-4ac4-b01c-6586bb52c188')\"\n",
              "              title=\"Convert this dataframe to an interactive table.\"\n",
              "              style=\"display:none;\">\n",
              "        \n",
              "  <svg xmlns=\"http://www.w3.org/2000/svg\" height=\"24px\"viewBox=\"0 0 24 24\"\n",
              "       width=\"24px\">\n",
              "    <path d=\"M0 0h24v24H0V0z\" fill=\"none\"/>\n",
              "    <path d=\"M18.56 5.44l.94 2.06.94-2.06 2.06-.94-2.06-.94-.94-2.06-.94 2.06-2.06.94zm-11 1L8.5 8.5l.94-2.06 2.06-.94-2.06-.94L8.5 2.5l-.94 2.06-2.06.94zm10 10l.94 2.06.94-2.06 2.06-.94-2.06-.94-.94-2.06-.94 2.06-2.06.94z\"/><path d=\"M17.41 7.96l-1.37-1.37c-.4-.4-.92-.59-1.43-.59-.52 0-1.04.2-1.43.59L10.3 9.45l-7.72 7.72c-.78.78-.78 2.05 0 2.83L4 21.41c.39.39.9.59 1.41.59.51 0 1.02-.2 1.41-.59l7.78-7.78 2.81-2.81c.8-.78.8-2.07 0-2.86zM5.41 20L4 18.59l7.72-7.72 1.47 1.35L5.41 20z\"/>\n",
              "  </svg>\n",
              "      </button>\n",
              "      \n",
              "  <style>\n",
              "    .colab-df-container {\n",
              "      display:flex;\n",
              "      flex-wrap:wrap;\n",
              "      gap: 12px;\n",
              "    }\n",
              "\n",
              "    .colab-df-convert {\n",
              "      background-color: #E8F0FE;\n",
              "      border: none;\n",
              "      border-radius: 50%;\n",
              "      cursor: pointer;\n",
              "      display: none;\n",
              "      fill: #1967D2;\n",
              "      height: 32px;\n",
              "      padding: 0 0 0 0;\n",
              "      width: 32px;\n",
              "    }\n",
              "\n",
              "    .colab-df-convert:hover {\n",
              "      background-color: #E2EBFA;\n",
              "      box-shadow: 0px 1px 2px rgba(60, 64, 67, 0.3), 0px 1px 3px 1px rgba(60, 64, 67, 0.15);\n",
              "      fill: #174EA6;\n",
              "    }\n",
              "\n",
              "    [theme=dark] .colab-df-convert {\n",
              "      background-color: #3B4455;\n",
              "      fill: #D2E3FC;\n",
              "    }\n",
              "\n",
              "    [theme=dark] .colab-df-convert:hover {\n",
              "      background-color: #434B5C;\n",
              "      box-shadow: 0px 1px 3px 1px rgba(0, 0, 0, 0.15);\n",
              "      filter: drop-shadow(0px 1px 2px rgba(0, 0, 0, 0.3));\n",
              "      fill: #FFFFFF;\n",
              "    }\n",
              "  </style>\n",
              "\n",
              "      <script>\n",
              "        const buttonEl =\n",
              "          document.querySelector('#df-021535af-6291-4ac4-b01c-6586bb52c188 button.colab-df-convert');\n",
              "        buttonEl.style.display =\n",
              "          google.colab.kernel.accessAllowed ? 'block' : 'none';\n",
              "\n",
              "        async function convertToInteractive(key) {\n",
              "          const element = document.querySelector('#df-021535af-6291-4ac4-b01c-6586bb52c188');\n",
              "          const dataTable =\n",
              "            await google.colab.kernel.invokeFunction('convertToInteractive',\n",
              "                                                     [key], {});\n",
              "          if (!dataTable) return;\n",
              "\n",
              "          const docLinkHtml = 'Like what you see? Visit the ' +\n",
              "            '<a target=\"_blank\" href=https://colab.research.google.com/notebooks/data_table.ipynb>data table notebook</a>'\n",
              "            + ' to learn more about interactive tables.';\n",
              "          element.innerHTML = '';\n",
              "          dataTable['output_type'] = 'display_data';\n",
              "          await google.colab.output.renderOutput(dataTable, element);\n",
              "          const docLink = document.createElement('div');\n",
              "          docLink.innerHTML = docLinkHtml;\n",
              "          element.appendChild(docLink);\n",
              "        }\n",
              "      </script>\n",
              "    </div>\n",
              "  </div>\n",
              "  "
            ]
          },
          "metadata": {},
          "execution_count": 221
        }
      ]
    },
    {
      "cell_type": "markdown",
      "source": [
        "### Maping the emotions to numeric labels"
      ],
      "metadata": {
        "id": "rIoRJbxhQJKD"
      }
    },
    {
      "cell_type": "code",
      "source": [
        "mapping = {\n",
        "    'anger' : 0,\n",
        "    'fear' : 1,\n",
        "    'sadness' : 2,\n",
        "    'surprise' : 3,\n",
        "    'joy' : 4,\n",
        "    'love' : 5,\n",
        "}"
      ],
      "metadata": {
        "id": "MLXIohwHQM7d"
      },
      "execution_count": 222,
      "outputs": []
    },
    {
      "cell_type": "code",
      "source": [
        "df['emotion_numeric'] = df['emotion'].replace(mapping)"
      ],
      "metadata": {
        "id": "NiwmZpUrQOGF"
      },
      "execution_count": 223,
      "outputs": []
    },
    {
      "cell_type": "code",
      "source": [
        "df.head()"
      ],
      "metadata": {
        "colab": {
          "base_uri": "https://localhost:8080/",
          "height": 206
        },
        "id": "LpKGC8iKQPoJ",
        "outputId": "5ef85737-b1dc-4484-cbb2-7824a4c924be"
      },
      "execution_count": 224,
      "outputs": [
        {
          "output_type": "execute_result",
          "data": {
            "text/plain": [
              "                        Date          User  \\\n",
              "0  2023-04-15 11:02:21+00:00  Hellstorm901   \n",
              "1  2023-04-15 11:02:07+00:00  MaryMaryLin8   \n",
              "2  2023-04-15 11:02:05+00:00    elwrshfany   \n",
              "3  2023-04-15 11:02:01+00:00  jeaniegirlTN   \n",
              "4  2023-04-15 11:01:57+00:00  yusr35144430   \n",
              "\n",
              "                                               Tweet  emotion  emotion_numeric  \n",
              "0  @vicktop55 Fact Check - Buildings which Ukrain...     fear                1  \n",
              "1  #NaziRussia #Russia #WarCrimes #WarCrimesofRus...    anger                0  \n",
              "2  WARNING GRAPHIC CONTENT 18+ | Ukrainian armore...  sadness                2  \n",
              "3  @TheSpectator He may be right as Biden is an o...    anger                0  \n",
              "4  🔴Russian War--Footage of The Attack on Katsap ...     fear                1  "
            ],
            "text/html": [
              "\n",
              "  <div id=\"df-72cab70a-e70e-4fef-8fcc-83f715e934f9\">\n",
              "    <div class=\"colab-df-container\">\n",
              "      <div>\n",
              "<style scoped>\n",
              "    .dataframe tbody tr th:only-of-type {\n",
              "        vertical-align: middle;\n",
              "    }\n",
              "\n",
              "    .dataframe tbody tr th {\n",
              "        vertical-align: top;\n",
              "    }\n",
              "\n",
              "    .dataframe thead th {\n",
              "        text-align: right;\n",
              "    }\n",
              "</style>\n",
              "<table border=\"1\" class=\"dataframe\">\n",
              "  <thead>\n",
              "    <tr style=\"text-align: right;\">\n",
              "      <th></th>\n",
              "      <th>Date</th>\n",
              "      <th>User</th>\n",
              "      <th>Tweet</th>\n",
              "      <th>emotion</th>\n",
              "      <th>emotion_numeric</th>\n",
              "    </tr>\n",
              "  </thead>\n",
              "  <tbody>\n",
              "    <tr>\n",
              "      <th>0</th>\n",
              "      <td>2023-04-15 11:02:21+00:00</td>\n",
              "      <td>Hellstorm901</td>\n",
              "      <td>@vicktop55 Fact Check - Buildings which Ukrain...</td>\n",
              "      <td>fear</td>\n",
              "      <td>1</td>\n",
              "    </tr>\n",
              "    <tr>\n",
              "      <th>1</th>\n",
              "      <td>2023-04-15 11:02:07+00:00</td>\n",
              "      <td>MaryMaryLin8</td>\n",
              "      <td>#NaziRussia #Russia #WarCrimes #WarCrimesofRus...</td>\n",
              "      <td>anger</td>\n",
              "      <td>0</td>\n",
              "    </tr>\n",
              "    <tr>\n",
              "      <th>2</th>\n",
              "      <td>2023-04-15 11:02:05+00:00</td>\n",
              "      <td>elwrshfany</td>\n",
              "      <td>WARNING GRAPHIC CONTENT 18+ | Ukrainian armore...</td>\n",
              "      <td>sadness</td>\n",
              "      <td>2</td>\n",
              "    </tr>\n",
              "    <tr>\n",
              "      <th>3</th>\n",
              "      <td>2023-04-15 11:02:01+00:00</td>\n",
              "      <td>jeaniegirlTN</td>\n",
              "      <td>@TheSpectator He may be right as Biden is an o...</td>\n",
              "      <td>anger</td>\n",
              "      <td>0</td>\n",
              "    </tr>\n",
              "    <tr>\n",
              "      <th>4</th>\n",
              "      <td>2023-04-15 11:01:57+00:00</td>\n",
              "      <td>yusr35144430</td>\n",
              "      <td>🔴Russian War--Footage of The Attack on Katsap ...</td>\n",
              "      <td>fear</td>\n",
              "      <td>1</td>\n",
              "    </tr>\n",
              "  </tbody>\n",
              "</table>\n",
              "</div>\n",
              "      <button class=\"colab-df-convert\" onclick=\"convertToInteractive('df-72cab70a-e70e-4fef-8fcc-83f715e934f9')\"\n",
              "              title=\"Convert this dataframe to an interactive table.\"\n",
              "              style=\"display:none;\">\n",
              "        \n",
              "  <svg xmlns=\"http://www.w3.org/2000/svg\" height=\"24px\"viewBox=\"0 0 24 24\"\n",
              "       width=\"24px\">\n",
              "    <path d=\"M0 0h24v24H0V0z\" fill=\"none\"/>\n",
              "    <path d=\"M18.56 5.44l.94 2.06.94-2.06 2.06-.94-2.06-.94-.94-2.06-.94 2.06-2.06.94zm-11 1L8.5 8.5l.94-2.06 2.06-.94-2.06-.94L8.5 2.5l-.94 2.06-2.06.94zm10 10l.94 2.06.94-2.06 2.06-.94-2.06-.94-.94-2.06-.94 2.06-2.06.94z\"/><path d=\"M17.41 7.96l-1.37-1.37c-.4-.4-.92-.59-1.43-.59-.52 0-1.04.2-1.43.59L10.3 9.45l-7.72 7.72c-.78.78-.78 2.05 0 2.83L4 21.41c.39.39.9.59 1.41.59.51 0 1.02-.2 1.41-.59l7.78-7.78 2.81-2.81c.8-.78.8-2.07 0-2.86zM5.41 20L4 18.59l7.72-7.72 1.47 1.35L5.41 20z\"/>\n",
              "  </svg>\n",
              "      </button>\n",
              "      \n",
              "  <style>\n",
              "    .colab-df-container {\n",
              "      display:flex;\n",
              "      flex-wrap:wrap;\n",
              "      gap: 12px;\n",
              "    }\n",
              "\n",
              "    .colab-df-convert {\n",
              "      background-color: #E8F0FE;\n",
              "      border: none;\n",
              "      border-radius: 50%;\n",
              "      cursor: pointer;\n",
              "      display: none;\n",
              "      fill: #1967D2;\n",
              "      height: 32px;\n",
              "      padding: 0 0 0 0;\n",
              "      width: 32px;\n",
              "    }\n",
              "\n",
              "    .colab-df-convert:hover {\n",
              "      background-color: #E2EBFA;\n",
              "      box-shadow: 0px 1px 2px rgba(60, 64, 67, 0.3), 0px 1px 3px 1px rgba(60, 64, 67, 0.15);\n",
              "      fill: #174EA6;\n",
              "    }\n",
              "\n",
              "    [theme=dark] .colab-df-convert {\n",
              "      background-color: #3B4455;\n",
              "      fill: #D2E3FC;\n",
              "    }\n",
              "\n",
              "    [theme=dark] .colab-df-convert:hover {\n",
              "      background-color: #434B5C;\n",
              "      box-shadow: 0px 1px 3px 1px rgba(0, 0, 0, 0.15);\n",
              "      filter: drop-shadow(0px 1px 2px rgba(0, 0, 0, 0.3));\n",
              "      fill: #FFFFFF;\n",
              "    }\n",
              "  </style>\n",
              "\n",
              "      <script>\n",
              "        const buttonEl =\n",
              "          document.querySelector('#df-72cab70a-e70e-4fef-8fcc-83f715e934f9 button.colab-df-convert');\n",
              "        buttonEl.style.display =\n",
              "          google.colab.kernel.accessAllowed ? 'block' : 'none';\n",
              "\n",
              "        async function convertToInteractive(key) {\n",
              "          const element = document.querySelector('#df-72cab70a-e70e-4fef-8fcc-83f715e934f9');\n",
              "          const dataTable =\n",
              "            await google.colab.kernel.invokeFunction('convertToInteractive',\n",
              "                                                     [key], {});\n",
              "          if (!dataTable) return;\n",
              "\n",
              "          const docLinkHtml = 'Like what you see? Visit the ' +\n",
              "            '<a target=\"_blank\" href=https://colab.research.google.com/notebooks/data_table.ipynb>data table notebook</a>'\n",
              "            + ' to learn more about interactive tables.';\n",
              "          element.innerHTML = '';\n",
              "          dataTable['output_type'] = 'display_data';\n",
              "          await google.colab.output.renderOutput(dataTable, element);\n",
              "          const docLink = document.createElement('div');\n",
              "          docLink.innerHTML = docLinkHtml;\n",
              "          element.appendChild(docLink);\n",
              "        }\n",
              "      </script>\n",
              "    </div>\n",
              "  </div>\n",
              "  "
            ]
          },
          "metadata": {},
          "execution_count": 224
        }
      ]
    },
    {
      "cell_type": "markdown",
      "source": [
        "### Cleaning the tweet data"
      ],
      "metadata": {
        "id": "8wi68wfnQS-v"
      }
    },
    {
      "cell_type": "code",
      "source": [
        "import re\n",
        "\n",
        "def clean_tweet(text):\n",
        "    if not isinstance(text, str):\n",
        "        return ''\n",
        "    text = re.sub(r'@[A-Za-z0-9]+', '', text)\n",
        "    text = re.sub(r'(RT[\\s]+|:[\\s]+)', '', text)\n",
        "    text = re.sub(r'#', '', text)\n",
        "    text = re.sub(r'https?:\\/\\/\\S+', '', text)\n",
        "    return text\n"
      ],
      "metadata": {
        "id": "jrvi_A4kQWqf"
      },
      "execution_count": 225,
      "outputs": []
    },
    {
      "cell_type": "code",
      "source": [
        "df['Tweet'] = df['Tweet'].apply(lambda twt: clean_tweet(twt))"
      ],
      "metadata": {
        "id": "5gMXMVr-QYfy"
      },
      "execution_count": 226,
      "outputs": []
    },
    {
      "cell_type": "code",
      "source": [
        "df.head()"
      ],
      "metadata": {
        "colab": {
          "base_uri": "https://localhost:8080/",
          "height": 206
        },
        "id": "csB1rHuxQdbi",
        "outputId": "c121763a-7d96-47ff-ddbf-0750bdc90730"
      },
      "execution_count": 227,
      "outputs": [
        {
          "output_type": "execute_result",
          "data": {
            "text/plain": [
              "                        Date          User  \\\n",
              "0  2023-04-15 11:02:21+00:00  Hellstorm901   \n",
              "1  2023-04-15 11:02:07+00:00  MaryMaryLin8   \n",
              "2  2023-04-15 11:02:05+00:00    elwrshfany   \n",
              "3  2023-04-15 11:02:01+00:00  jeaniegirlTN   \n",
              "4  2023-04-15 11:01:57+00:00  yusr35144430   \n",
              "\n",
              "                                               Tweet  emotion  emotion_numeric  \n",
              "0   Fact Check - Buildings which Ukraine knew Rus...     fear                1  \n",
              "1  NaziRussia Russia WarCrimes WarCrimesofRussia ...    anger                0  \n",
              "2  WARNING GRAPHIC CONTENT 18+ | Ukrainian armore...  sadness                2  \n",
              "3   He may be right as Biden is an old grifter la...    anger                0  \n",
              "4  🔴Russian War--Footage of The Attack on Katsap ...     fear                1  "
            ],
            "text/html": [
              "\n",
              "  <div id=\"df-90d260f1-1510-4e67-bf0d-6d4a0a29667e\">\n",
              "    <div class=\"colab-df-container\">\n",
              "      <div>\n",
              "<style scoped>\n",
              "    .dataframe tbody tr th:only-of-type {\n",
              "        vertical-align: middle;\n",
              "    }\n",
              "\n",
              "    .dataframe tbody tr th {\n",
              "        vertical-align: top;\n",
              "    }\n",
              "\n",
              "    .dataframe thead th {\n",
              "        text-align: right;\n",
              "    }\n",
              "</style>\n",
              "<table border=\"1\" class=\"dataframe\">\n",
              "  <thead>\n",
              "    <tr style=\"text-align: right;\">\n",
              "      <th></th>\n",
              "      <th>Date</th>\n",
              "      <th>User</th>\n",
              "      <th>Tweet</th>\n",
              "      <th>emotion</th>\n",
              "      <th>emotion_numeric</th>\n",
              "    </tr>\n",
              "  </thead>\n",
              "  <tbody>\n",
              "    <tr>\n",
              "      <th>0</th>\n",
              "      <td>2023-04-15 11:02:21+00:00</td>\n",
              "      <td>Hellstorm901</td>\n",
              "      <td>Fact Check - Buildings which Ukraine knew Rus...</td>\n",
              "      <td>fear</td>\n",
              "      <td>1</td>\n",
              "    </tr>\n",
              "    <tr>\n",
              "      <th>1</th>\n",
              "      <td>2023-04-15 11:02:07+00:00</td>\n",
              "      <td>MaryMaryLin8</td>\n",
              "      <td>NaziRussia Russia WarCrimes WarCrimesofRussia ...</td>\n",
              "      <td>anger</td>\n",
              "      <td>0</td>\n",
              "    </tr>\n",
              "    <tr>\n",
              "      <th>2</th>\n",
              "      <td>2023-04-15 11:02:05+00:00</td>\n",
              "      <td>elwrshfany</td>\n",
              "      <td>WARNING GRAPHIC CONTENT 18+ | Ukrainian armore...</td>\n",
              "      <td>sadness</td>\n",
              "      <td>2</td>\n",
              "    </tr>\n",
              "    <tr>\n",
              "      <th>3</th>\n",
              "      <td>2023-04-15 11:02:01+00:00</td>\n",
              "      <td>jeaniegirlTN</td>\n",
              "      <td>He may be right as Biden is an old grifter la...</td>\n",
              "      <td>anger</td>\n",
              "      <td>0</td>\n",
              "    </tr>\n",
              "    <tr>\n",
              "      <th>4</th>\n",
              "      <td>2023-04-15 11:01:57+00:00</td>\n",
              "      <td>yusr35144430</td>\n",
              "      <td>🔴Russian War--Footage of The Attack on Katsap ...</td>\n",
              "      <td>fear</td>\n",
              "      <td>1</td>\n",
              "    </tr>\n",
              "  </tbody>\n",
              "</table>\n",
              "</div>\n",
              "      <button class=\"colab-df-convert\" onclick=\"convertToInteractive('df-90d260f1-1510-4e67-bf0d-6d4a0a29667e')\"\n",
              "              title=\"Convert this dataframe to an interactive table.\"\n",
              "              style=\"display:none;\">\n",
              "        \n",
              "  <svg xmlns=\"http://www.w3.org/2000/svg\" height=\"24px\"viewBox=\"0 0 24 24\"\n",
              "       width=\"24px\">\n",
              "    <path d=\"M0 0h24v24H0V0z\" fill=\"none\"/>\n",
              "    <path d=\"M18.56 5.44l.94 2.06.94-2.06 2.06-.94-2.06-.94-.94-2.06-.94 2.06-2.06.94zm-11 1L8.5 8.5l.94-2.06 2.06-.94-2.06-.94L8.5 2.5l-.94 2.06-2.06.94zm10 10l.94 2.06.94-2.06 2.06-.94-2.06-.94-.94-2.06-.94 2.06-2.06.94z\"/><path d=\"M17.41 7.96l-1.37-1.37c-.4-.4-.92-.59-1.43-.59-.52 0-1.04.2-1.43.59L10.3 9.45l-7.72 7.72c-.78.78-.78 2.05 0 2.83L4 21.41c.39.39.9.59 1.41.59.51 0 1.02-.2 1.41-.59l7.78-7.78 2.81-2.81c.8-.78.8-2.07 0-2.86zM5.41 20L4 18.59l7.72-7.72 1.47 1.35L5.41 20z\"/>\n",
              "  </svg>\n",
              "      </button>\n",
              "      \n",
              "  <style>\n",
              "    .colab-df-container {\n",
              "      display:flex;\n",
              "      flex-wrap:wrap;\n",
              "      gap: 12px;\n",
              "    }\n",
              "\n",
              "    .colab-df-convert {\n",
              "      background-color: #E8F0FE;\n",
              "      border: none;\n",
              "      border-radius: 50%;\n",
              "      cursor: pointer;\n",
              "      display: none;\n",
              "      fill: #1967D2;\n",
              "      height: 32px;\n",
              "      padding: 0 0 0 0;\n",
              "      width: 32px;\n",
              "    }\n",
              "\n",
              "    .colab-df-convert:hover {\n",
              "      background-color: #E2EBFA;\n",
              "      box-shadow: 0px 1px 2px rgba(60, 64, 67, 0.3), 0px 1px 3px 1px rgba(60, 64, 67, 0.15);\n",
              "      fill: #174EA6;\n",
              "    }\n",
              "\n",
              "    [theme=dark] .colab-df-convert {\n",
              "      background-color: #3B4455;\n",
              "      fill: #D2E3FC;\n",
              "    }\n",
              "\n",
              "    [theme=dark] .colab-df-convert:hover {\n",
              "      background-color: #434B5C;\n",
              "      box-shadow: 0px 1px 3px 1px rgba(0, 0, 0, 0.15);\n",
              "      filter: drop-shadow(0px 1px 2px rgba(0, 0, 0, 0.3));\n",
              "      fill: #FFFFFF;\n",
              "    }\n",
              "  </style>\n",
              "\n",
              "      <script>\n",
              "        const buttonEl =\n",
              "          document.querySelector('#df-90d260f1-1510-4e67-bf0d-6d4a0a29667e button.colab-df-convert');\n",
              "        buttonEl.style.display =\n",
              "          google.colab.kernel.accessAllowed ? 'block' : 'none';\n",
              "\n",
              "        async function convertToInteractive(key) {\n",
              "          const element = document.querySelector('#df-90d260f1-1510-4e67-bf0d-6d4a0a29667e');\n",
              "          const dataTable =\n",
              "            await google.colab.kernel.invokeFunction('convertToInteractive',\n",
              "                                                     [key], {});\n",
              "          if (!dataTable) return;\n",
              "\n",
              "          const docLinkHtml = 'Like what you see? Visit the ' +\n",
              "            '<a target=\"_blank\" href=https://colab.research.google.com/notebooks/data_table.ipynb>data table notebook</a>'\n",
              "            + ' to learn more about interactive tables.';\n",
              "          element.innerHTML = '';\n",
              "          dataTable['output_type'] = 'display_data';\n",
              "          await google.colab.output.renderOutput(dataTable, element);\n",
              "          const docLink = document.createElement('div');\n",
              "          docLink.innerHTML = docLinkHtml;\n",
              "          element.appendChild(docLink);\n",
              "        }\n",
              "      </script>\n",
              "    </div>\n",
              "  </div>\n",
              "  "
            ]
          },
          "metadata": {},
          "execution_count": 227
        }
      ]
    },
    {
      "cell_type": "markdown",
      "source": [
        "### Removing emojis from the tweets"
      ],
      "metadata": {
        "id": "Vg611xt_QgZI"
      }
    },
    {
      "cell_type": "code",
      "source": [
        "def deEmojify(text):\n",
        "    regrex_pattern = re.compile(pattern = \"[\"\n",
        "        u\"\\U0001F600-\\U0001F64F\"  # emoticons\n",
        "        u\"\\U0001F300-\\U0001F5FF\"  # symbols & pictographs\n",
        "        u\"\\U0001F680-\\U0001F6FF\"  # transport & map symbols\n",
        "        u\"\\U0001F1E0-\\U0001F1FF\"  # flags (iOS)\n",
        "                           \"]+\", flags = re.UNICODE)\n",
        "    return regrex_pattern.sub(r'',text)"
      ],
      "metadata": {
        "id": "h3gtuGlXQij2"
      },
      "execution_count": 228,
      "outputs": []
    },
    {
      "cell_type": "code",
      "source": [
        "df['Tweet'] = df['Tweet'].apply(lambda twt: deEmojify(twt))"
      ],
      "metadata": {
        "id": "c5_RpfduQlGm"
      },
      "execution_count": 229,
      "outputs": []
    },
    {
      "cell_type": "code",
      "source": [
        "df.head()"
      ],
      "metadata": {
        "colab": {
          "base_uri": "https://localhost:8080/",
          "height": 206
        },
        "id": "kVc06isBQmRC",
        "outputId": "64917f47-2715-4560-c8d2-52c2db841c15"
      },
      "execution_count": 230,
      "outputs": [
        {
          "output_type": "execute_result",
          "data": {
            "text/plain": [
              "                        Date          User  \\\n",
              "0  2023-04-15 11:02:21+00:00  Hellstorm901   \n",
              "1  2023-04-15 11:02:07+00:00  MaryMaryLin8   \n",
              "2  2023-04-15 11:02:05+00:00    elwrshfany   \n",
              "3  2023-04-15 11:02:01+00:00  jeaniegirlTN   \n",
              "4  2023-04-15 11:01:57+00:00  yusr35144430   \n",
              "\n",
              "                                               Tweet  emotion  emotion_numeric  \n",
              "0   Fact Check - Buildings which Ukraine knew Rus...     fear                1  \n",
              "1  NaziRussia Russia WarCrimes WarCrimesofRussia ...    anger                0  \n",
              "2  WARNING GRAPHIC CONTENT 18+ | Ukrainian armore...  sadness                2  \n",
              "3   He may be right as Biden is an old grifter la...    anger                0  \n",
              "4  Russian War--Footage of The Attack on Katsap P...     fear                1  "
            ],
            "text/html": [
              "\n",
              "  <div id=\"df-f2d8c8e7-8b81-4162-b177-fc73185e5df1\">\n",
              "    <div class=\"colab-df-container\">\n",
              "      <div>\n",
              "<style scoped>\n",
              "    .dataframe tbody tr th:only-of-type {\n",
              "        vertical-align: middle;\n",
              "    }\n",
              "\n",
              "    .dataframe tbody tr th {\n",
              "        vertical-align: top;\n",
              "    }\n",
              "\n",
              "    .dataframe thead th {\n",
              "        text-align: right;\n",
              "    }\n",
              "</style>\n",
              "<table border=\"1\" class=\"dataframe\">\n",
              "  <thead>\n",
              "    <tr style=\"text-align: right;\">\n",
              "      <th></th>\n",
              "      <th>Date</th>\n",
              "      <th>User</th>\n",
              "      <th>Tweet</th>\n",
              "      <th>emotion</th>\n",
              "      <th>emotion_numeric</th>\n",
              "    </tr>\n",
              "  </thead>\n",
              "  <tbody>\n",
              "    <tr>\n",
              "      <th>0</th>\n",
              "      <td>2023-04-15 11:02:21+00:00</td>\n",
              "      <td>Hellstorm901</td>\n",
              "      <td>Fact Check - Buildings which Ukraine knew Rus...</td>\n",
              "      <td>fear</td>\n",
              "      <td>1</td>\n",
              "    </tr>\n",
              "    <tr>\n",
              "      <th>1</th>\n",
              "      <td>2023-04-15 11:02:07+00:00</td>\n",
              "      <td>MaryMaryLin8</td>\n",
              "      <td>NaziRussia Russia WarCrimes WarCrimesofRussia ...</td>\n",
              "      <td>anger</td>\n",
              "      <td>0</td>\n",
              "    </tr>\n",
              "    <tr>\n",
              "      <th>2</th>\n",
              "      <td>2023-04-15 11:02:05+00:00</td>\n",
              "      <td>elwrshfany</td>\n",
              "      <td>WARNING GRAPHIC CONTENT 18+ | Ukrainian armore...</td>\n",
              "      <td>sadness</td>\n",
              "      <td>2</td>\n",
              "    </tr>\n",
              "    <tr>\n",
              "      <th>3</th>\n",
              "      <td>2023-04-15 11:02:01+00:00</td>\n",
              "      <td>jeaniegirlTN</td>\n",
              "      <td>He may be right as Biden is an old grifter la...</td>\n",
              "      <td>anger</td>\n",
              "      <td>0</td>\n",
              "    </tr>\n",
              "    <tr>\n",
              "      <th>4</th>\n",
              "      <td>2023-04-15 11:01:57+00:00</td>\n",
              "      <td>yusr35144430</td>\n",
              "      <td>Russian War--Footage of The Attack on Katsap P...</td>\n",
              "      <td>fear</td>\n",
              "      <td>1</td>\n",
              "    </tr>\n",
              "  </tbody>\n",
              "</table>\n",
              "</div>\n",
              "      <button class=\"colab-df-convert\" onclick=\"convertToInteractive('df-f2d8c8e7-8b81-4162-b177-fc73185e5df1')\"\n",
              "              title=\"Convert this dataframe to an interactive table.\"\n",
              "              style=\"display:none;\">\n",
              "        \n",
              "  <svg xmlns=\"http://www.w3.org/2000/svg\" height=\"24px\"viewBox=\"0 0 24 24\"\n",
              "       width=\"24px\">\n",
              "    <path d=\"M0 0h24v24H0V0z\" fill=\"none\"/>\n",
              "    <path d=\"M18.56 5.44l.94 2.06.94-2.06 2.06-.94-2.06-.94-.94-2.06-.94 2.06-2.06.94zm-11 1L8.5 8.5l.94-2.06 2.06-.94-2.06-.94L8.5 2.5l-.94 2.06-2.06.94zm10 10l.94 2.06.94-2.06 2.06-.94-2.06-.94-.94-2.06-.94 2.06-2.06.94z\"/><path d=\"M17.41 7.96l-1.37-1.37c-.4-.4-.92-.59-1.43-.59-.52 0-1.04.2-1.43.59L10.3 9.45l-7.72 7.72c-.78.78-.78 2.05 0 2.83L4 21.41c.39.39.9.59 1.41.59.51 0 1.02-.2 1.41-.59l7.78-7.78 2.81-2.81c.8-.78.8-2.07 0-2.86zM5.41 20L4 18.59l7.72-7.72 1.47 1.35L5.41 20z\"/>\n",
              "  </svg>\n",
              "      </button>\n",
              "      \n",
              "  <style>\n",
              "    .colab-df-container {\n",
              "      display:flex;\n",
              "      flex-wrap:wrap;\n",
              "      gap: 12px;\n",
              "    }\n",
              "\n",
              "    .colab-df-convert {\n",
              "      background-color: #E8F0FE;\n",
              "      border: none;\n",
              "      border-radius: 50%;\n",
              "      cursor: pointer;\n",
              "      display: none;\n",
              "      fill: #1967D2;\n",
              "      height: 32px;\n",
              "      padding: 0 0 0 0;\n",
              "      width: 32px;\n",
              "    }\n",
              "\n",
              "    .colab-df-convert:hover {\n",
              "      background-color: #E2EBFA;\n",
              "      box-shadow: 0px 1px 2px rgba(60, 64, 67, 0.3), 0px 1px 3px 1px rgba(60, 64, 67, 0.15);\n",
              "      fill: #174EA6;\n",
              "    }\n",
              "\n",
              "    [theme=dark] .colab-df-convert {\n",
              "      background-color: #3B4455;\n",
              "      fill: #D2E3FC;\n",
              "    }\n",
              "\n",
              "    [theme=dark] .colab-df-convert:hover {\n",
              "      background-color: #434B5C;\n",
              "      box-shadow: 0px 1px 3px 1px rgba(0, 0, 0, 0.15);\n",
              "      filter: drop-shadow(0px 1px 2px rgba(0, 0, 0, 0.3));\n",
              "      fill: #FFFFFF;\n",
              "    }\n",
              "  </style>\n",
              "\n",
              "      <script>\n",
              "        const buttonEl =\n",
              "          document.querySelector('#df-f2d8c8e7-8b81-4162-b177-fc73185e5df1 button.colab-df-convert');\n",
              "        buttonEl.style.display =\n",
              "          google.colab.kernel.accessAllowed ? 'block' : 'none';\n",
              "\n",
              "        async function convertToInteractive(key) {\n",
              "          const element = document.querySelector('#df-f2d8c8e7-8b81-4162-b177-fc73185e5df1');\n",
              "          const dataTable =\n",
              "            await google.colab.kernel.invokeFunction('convertToInteractive',\n",
              "                                                     [key], {});\n",
              "          if (!dataTable) return;\n",
              "\n",
              "          const docLinkHtml = 'Like what you see? Visit the ' +\n",
              "            '<a target=\"_blank\" href=https://colab.research.google.com/notebooks/data_table.ipynb>data table notebook</a>'\n",
              "            + ' to learn more about interactive tables.';\n",
              "          element.innerHTML = '';\n",
              "          dataTable['output_type'] = 'display_data';\n",
              "          await google.colab.output.renderOutput(dataTable, element);\n",
              "          const docLink = document.createElement('div');\n",
              "          docLink.innerHTML = docLinkHtml;\n",
              "          element.appendChild(docLink);\n",
              "        }\n",
              "      </script>\n",
              "    </div>\n",
              "  </div>\n",
              "  "
            ]
          },
          "metadata": {},
          "execution_count": 230
        }
      ]
    },
    {
      "cell_type": "markdown",
      "source": [
        "### Importing and Downloading necessary NLTK resources"
      ],
      "metadata": {
        "id": "ecpBxwP4QqFm"
      }
    },
    {
      "cell_type": "code",
      "source": [
        "import nltk\n",
        "from nltk.tokenize import word_tokenize\n",
        "from nltk.stem.snowball import SnowballStemmer\n",
        "from nltk.corpus import stopwords\n",
        "from textblob import TextBlob\n",
        "\n",
        "nltk.download('punkt')\n",
        "nltk.download('stopwords')"
      ],
      "metadata": {
        "colab": {
          "base_uri": "https://localhost:8080/"
        },
        "id": "9UfDr8DXQwqH",
        "outputId": "534ce72b-1053-44ee-abcc-0bcc6f41f8e1"
      },
      "execution_count": 231,
      "outputs": [
        {
          "output_type": "stream",
          "name": "stderr",
          "text": [
            "[nltk_data] Downloading package punkt to /root/nltk_data...\n",
            "[nltk_data]   Package punkt is already up-to-date!\n",
            "[nltk_data] Downloading package stopwords to /root/nltk_data...\n",
            "[nltk_data]   Package stopwords is already up-to-date!\n"
          ]
        },
        {
          "output_type": "execute_result",
          "data": {
            "text/plain": [
              "True"
            ]
          },
          "metadata": {},
          "execution_count": 231
        }
      ]
    },
    {
      "cell_type": "code",
      "source": [
        "stemmer = SnowballStemmer(language = 'english')\n",
        "english_stopwords = stopwords.words('english')\n",
        "english_stopwords = english_stopwords[:116]\n",
        "','.join(english_stopwords)"
      ],
      "metadata": {
        "colab": {
          "base_uri": "https://localhost:8080/",
          "height": 73
        },
        "id": "gMPxQNS-QxYv",
        "outputId": "b92ff04d-f067-4be2-85e0-fdcbde5c1aa4"
      },
      "execution_count": 364,
      "outputs": [
        {
          "output_type": "execute_result",
          "data": {
            "text/plain": [
              "\"i,me,my,myself,we,our,ours,ourselves,you,you're,you've,you'll,you'd,your,yours,yourself,yourselves,he,him,his,himself,she,she's,her,hers,herself,it,it's,its,itself,they,them,their,theirs,themselves,what,which,who,whom,this,that,that'll,these,those,am,is,are,was,were,be,been,being,have,has,had,having,do,does,did,doing,a,an,the,and,but,if,or,because,as,until,while,of,at,by,for,with,about,against,between,into,through,during,before,after,above,below,to,from,up,down,in,out,on,off,over,under,again,further,then,once,here,there,when,where,why,how,all,any,both,each,few,more,most,other,some,such\""
            ],
            "application/vnd.google.colaboratory.intrinsic+json": {
              "type": "string"
            }
          },
          "metadata": {},
          "execution_count": 364
        }
      ]
    },
    {
      "cell_type": "markdown",
      "source": [
        "### Function to convert chat acronyms to full form"
      ],
      "metadata": {
        "id": "GsCtnSjYRKKb"
      }
    },
    {
      "cell_type": "code",
      "source": [
        "chat_words = {\n",
        "    \"lol\": \"laugh out loud\",\n",
        "    \"brb\": \"be right back\",\n",
        "    \"omg\": \"oh my god\",\n",
        "    \"jk\": \"just kidding\",\n",
        "    \"fyi\": \"for your information\",\n",
        "    \"btw\": \"by the way\",\n",
        "    \"afaik\": \"as far as I know\",\n",
        "    \"idk\": \"I don't know\",\n",
        "    \"imo\": \"in my opinion\",\n",
        "    \"tbh\": \"to be honest\",\n",
        "    \"ty\": \"thank you\",\n",
        "    \"yw\": \"you're welcome\",\n",
        "    \"np\": \"no problem\",\n",
        "    \"gg\": \"good game\",\n",
        "    \"wp\": \"well played\",\n",
        "    \"ggwp\": \"good game, well played\",\n",
        "    \"irl\": \"in real life\",\n",
        "    \"imo\": \"in my opinion\",\n",
        "    \"smh\": \"shaking my head\",\n",
        "    \"tfw\": \"that feeling when\",\n",
        "    \"thx\": \"thanks\",\n",
        "    \"wtf\": \"what the f***\",\n",
        "    \"omw\": \"on my way\",\n",
        "    \"jk\": \"just kidding\",\n",
        "    \"rn\": \"right now\",\n",
        "    \"afk\": \"away from keyboard\",\n",
        "    \"b4\": \"before\",\n",
        "    \"cu\": \"see you\",\n",
        "    \"dbmib\": \"don't bother me I'm busy\",\n",
        "    \"dl\": \"download\",\n",
        "    \"dw\": \"don't worry\",\n",
        "    \"ez\": \"easy\",\n",
        "    \"ffs\": \"for f***'s sake\",\n",
        "    \"fu\": \"f*** you\",\n",
        "    \"hbu\": \"how about you\",\n",
        "    \"hru\": \"how are you\",\n",
        "    \"ic\": \"I see\",\n",
        "    \"idc\": \"I don't care\",\n",
        "    \"ikr\": \"I know, right\",\n",
        "    \"ily\": \"I love you\",\n",
        "    \"imho\": \"in my humble opinion\",\n",
        "    \"lmao\": \"laughing my ass off\",\n",
        "    \"lmk\": \"let me know\",\n",
        "    \"nbd\": \"no big deal\",\n",
        "    \"nvm\": \"nevermind\",\n",
        "    \"ofc\": \"of course\",\n",
        "    \"ppl\": \"people\",\n",
        "    \"rofl\": \"rolling on the floor laughing\",\n",
        "    \"srsly\": \"seriously\",\n",
        "    \"stfu\": \"shut the f*** up\",\n",
        "    \"tmi\": \"too much information\",\n",
        "    \"ttyl\": \"talk to you later\",\n",
        "    \"u\": \"you\",\n",
        "    \"ur\": \"your\",\n",
        "    \"wbu\": \"what about you\",\n",
        "    \"wth\": \"what the hell\",\n",
        "    \"yolo\": \"you only live once\",\n",
        "    \"yw\": \"you're welcome\",\n",
        "    \"amp\": \"and\"\n",
        "}\n",
        "\n",
        "def chat_conversation(text):\n",
        "  new_text = []\n",
        "  for word in text.split():\n",
        "    if word.lower() in chat_words:\n",
        "      new_text.append(chat_words[word.lower()])\n",
        "    else:\n",
        "      new_text.append(word)\n",
        "  return \" \".join(new_text)"
      ],
      "metadata": {
        "id": "9f55wCUrROJt"
      },
      "execution_count": 233,
      "outputs": []
    },
    {
      "cell_type": "markdown",
      "source": [
        "### Tokenization function"
      ],
      "metadata": {
        "id": "uYW4ezFbRQGn"
      }
    },
    {
      "cell_type": "code",
      "source": [
        "def tokenize(text):\n",
        "    text = chat_conversation(text.lower())\n",
        "    # textBlb = TextBlob(txt)\n",
        "    # text = textBlb.correct().string\n",
        "    return [stemmer.stem(token) for token in word_tokenize(text) if token.isalpha() and token not in english_stopwords]"
      ],
      "metadata": {
        "id": "DzW1VrSORR5j"
      },
      "execution_count": 234,
      "outputs": []
    },
    {
      "cell_type": "code",
      "source": [
        "tokenize('What a wonderful lifee !!')"
      ],
      "metadata": {
        "colab": {
          "base_uri": "https://localhost:8080/"
        },
        "id": "11-v46rRAPY4",
        "outputId": "d2c59af6-693b-4fce-c99f-342ae482f5a9"
      },
      "execution_count": 235,
      "outputs": [
        {
          "output_type": "execute_result",
          "data": {
            "text/plain": [
              "['wonder', 'life']"
            ]
          },
          "metadata": {},
          "execution_count": 235
        }
      ]
    },
    {
      "cell_type": "markdown",
      "source": [
        "### Initializing the TFIDF Vector\n"
      ],
      "metadata": {
        "id": "OfzVNQRHRuEP"
      }
    },
    {
      "cell_type": "code",
      "source": [
        "from sklearn.feature_extraction.text import TfidfVectorizer"
      ],
      "metadata": {
        "id": "GzdyI8Y8R9_J"
      },
      "execution_count": 276,
      "outputs": []
    },
    {
      "cell_type": "code",
      "source": [
        "vectorizer = TfidfVectorizer(\n",
        "    tokenizer = tokenize,\n",
        "    ngram_range = (1,2),\n",
        "    max_features = 1500\n",
        ")"
      ],
      "metadata": {
        "id": "VI0aCRkERykN"
      },
      "execution_count": 332,
      "outputs": []
    },
    {
      "cell_type": "markdown",
      "source": [
        "### Spliting the dataset into Test and Train"
      ],
      "metadata": {
        "id": "rrG1ZPvoSCRT"
      }
    },
    {
      "cell_type": "code",
      "source": [
        "from sklearn.model_selection import train_test_split"
      ],
      "metadata": {
        "id": "k0XwpA0nSI_U"
      },
      "execution_count": 353,
      "outputs": []
    },
    {
      "cell_type": "code",
      "source": [
        "X_train, X_test, y_train, y_test = train_test_split(df['Tweet'], df['emotion_numeric'], test_size=0.2, random_state=500)"
      ],
      "metadata": {
        "id": "qMpHQ0gPSBwb"
      },
      "execution_count": 354,
      "outputs": []
    },
    {
      "cell_type": "markdown",
      "source": [
        "### Fiting the vectorizer to training data and transforming both the training and testing data\n"
      ],
      "metadata": {
        "id": "ohcf_uNXSNRR"
      }
    },
    {
      "cell_type": "code",
      "source": [
        "vectorizer.fit_transform(X_train)"
      ],
      "metadata": {
        "colab": {
          "base_uri": "https://localhost:8080/"
        },
        "id": "esUVv7x9SYaj",
        "outputId": "c25da9e9-2be7-47e2-d34d-d27f2692767a"
      },
      "execution_count": 355,
      "outputs": [
        {
          "output_type": "execute_result",
          "data": {
            "text/plain": [
              "<2560x1500 sparse matrix of type '<class 'numpy.float64'>'\n",
              "\twith 40139 stored elements in Compressed Sparse Row format>"
            ]
          },
          "metadata": {},
          "execution_count": 355
        }
      ]
    },
    {
      "cell_type": "code",
      "source": [
        "X_train = vectorizer.transform(X_train)\n",
        "X_test = vectorizer.transform(X_test)"
      ],
      "metadata": {
        "id": "VFS71knNS0Aw"
      },
      "execution_count": 358,
      "outputs": []
    },
    {
      "cell_type": "code",
      "source": [
        "import seaborn as sns\n",
        "\n",
        "from sklearn.svm import SVC\n",
        "from sklearn.metrics import accuracy_score, classification_report, confusion_matrix\n",
        "\n",
        "clf = SVC(kernel='linear')\n",
        "clf.fit(X_train, y_train)\n",
        "\n",
        "y_pred = clf.predict(X_test)\n",
        "\n",
        "accuracy = accuracy_score(y_test, y_pred)\n",
        "print('Accuracy:', accuracy)\n"
      ],
      "metadata": {
        "id": "QbkYU8QMYTL2",
        "colab": {
          "base_uri": "https://localhost:8080/"
        },
        "outputId": "be640ddd-9a33-4d3a-82e7-ebda082ae2c9"
      },
      "execution_count": 359,
      "outputs": [
        {
          "output_type": "stream",
          "name": "stdout",
          "text": [
            "Accuracy: 0.6390625\n"
          ]
        }
      ]
    },
    {
      "cell_type": "code",
      "source": [
        "report = classification_report(y_test, y_pred, zero_division=1)\n",
        "print(report)"
      ],
      "metadata": {
        "colab": {
          "base_uri": "https://localhost:8080/"
        },
        "id": "M32fVBT_4hIy",
        "outputId": "f92b1f74-e5c2-4fb7-f68a-4468645d0438"
      },
      "execution_count": 360,
      "outputs": [
        {
          "output_type": "stream",
          "name": "stdout",
          "text": [
            "              precision    recall  f1-score   support\n",
            "\n",
            "           0       0.63      0.91      0.75       353\n",
            "           1       0.91      0.20      0.32        51\n",
            "           2       0.83      0.16      0.27        62\n",
            "           3       1.00      0.00      0.00         3\n",
            "           4       0.62      0.41      0.49       167\n",
            "           5       1.00      0.00      0.00         4\n",
            "\n",
            "    accuracy                           0.64       640\n",
            "   macro avg       0.83      0.28      0.31       640\n",
            "weighted avg       0.68      0.64      0.59       640\n",
            "\n"
          ]
        }
      ]
    },
    {
      "cell_type": "code",
      "source": [
        "cm = confusion_matrix(y_test, y_pred)\n",
        "print('Confusion Matrix:\\n', cm)\n",
        "\n",
        "sns.heatmap(cm, annot=True, cmap='Blues')"
      ],
      "metadata": {
        "colab": {
          "base_uri": "https://localhost:8080/",
          "height": 577
        },
        "id": "xvayQPHX4KFk",
        "outputId": "ac84156a-7163-492c-9f24-fd353f1ac1de"
      },
      "execution_count": 361,
      "outputs": [
        {
          "output_type": "stream",
          "name": "stdout",
          "text": [
            "Confusion Matrix:\n",
            " [[321   0   1   0  31   0]\n",
            " [ 40  10   1   0   0   0]\n",
            " [ 44   0  10   0   8   0]\n",
            " [  3   0   0   0   0   0]\n",
            " [ 98   1   0   0  68   0]\n",
            " [  2   0   0   0   2   0]]\n"
          ]
        },
        {
          "output_type": "execute_result",
          "data": {
            "text/plain": [
              "<Axes: >"
            ]
          },
          "metadata": {},
          "execution_count": 361
        },
        {
          "output_type": "display_data",
          "data": {
            "text/plain": [
              "<Figure size 640x480 with 2 Axes>"
            ],
            "image/png": "[encoded data removed]"
          },
          "metadata": {}
        }
      ]
    }
  ]
}